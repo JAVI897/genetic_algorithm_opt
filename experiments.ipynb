{
 "cells": [
  {
   "cell_type": "code",
   "execution_count": 1,
   "metadata": {
    "ExecuteTime": {
     "end_time": "2021-12-16T18:06:52.931575Z",
     "start_time": "2021-12-16T18:06:52.915156Z"
    }
   },
   "outputs": [],
   "source": [
    "import subprocess"
   ]
  },
  {
   "cell_type": "markdown",
   "metadata": {},
   "source": [
    "### Tournament selection and crossover = COWGC"
   ]
  },
  {
   "cell_type": "code",
   "execution_count": null,
   "metadata": {
    "ExecuteTime": {
     "end_time": "2021-12-12T23:58:30.397127Z",
     "start_time": "2021-12-12T22:43:38.237431Z"
    }
   },
   "outputs": [],
   "source": [
    "#ALREADY EXECUTED\n",
    "for parent_selection in [3]:\n",
    "    for population_size in range(50, 1000, 50):\n",
    "        for mutation_selection in ['cim']:\n",
    "            for k_tournament in range(2, 25, 3):\n",
    "                cmd = 'python main.py --generations 3000 --crossover_selection COWGC --population_size {} --parent_selection {} --k_tournament {} --mutation_selection {}'.format(population_size, parent_selection, k_tournament, mutation_selection)\n",
    "                subprocess.call(cmd, shell=True)"
   ]
  },
  {
   "cell_type": "code",
   "execution_count": null,
   "metadata": {
    "ExecuteTime": {
     "start_time": "2021-12-13T11:04:11.506Z"
    }
   },
   "outputs": [],
   "source": [
    "#ALREADY EXECUTED\n",
    "for parent_selection in [3]:\n",
    "    for population_size in range(50, 1000, 50):\n",
    "        for mutation_selection in ['rsm']:\n",
    "            for k_tournament in range(2, 25, 3):\n",
    "                cmd = 'python main.py --generations 1000 --crossover_selection COWGC --population_size {} --parent_selection {} --k_tournament {} --mutation_selection {}'.format(population_size, parent_selection, k_tournament, mutation_selection)\n",
    "                subprocess.call(cmd, shell=True)"
   ]
  },
  {
   "cell_type": "code",
   "execution_count": null,
   "metadata": {
    "ExecuteTime": {
     "end_time": "2021-12-14T09:48:13.794745Z",
     "start_time": "2021-12-14T09:15:25.090646Z"
    }
   },
   "outputs": [],
   "source": [
    "#ALREADY EXECUTED\n",
    "# max population size is decreased as swap operator makes the convergence of the algorithm very slow\n",
    "for parent_selection in [3]:\n",
    "    for population_size in range(150, 350, 50):\n",
    "        for mutation_selection in ['swap']:\n",
    "            for k_tournament in range(2, 25, 3):\n",
    "                cmd = 'python main.py --generations 1000 --crossover_selection COWGC --population_size {} --parent_selection {} --k_tournament {} --mutation_selection {}'.format(population_size, parent_selection, k_tournament, mutation_selection)\n",
    "                subprocess.call(cmd, shell=True)"
   ]
  },
  {
   "cell_type": "markdown",
   "metadata": {},
   "source": [
    "### Roulette selection and crossover = COWGC"
   ]
  },
  {
   "cell_type": "code",
   "execution_count": null,
   "metadata": {
    "ExecuteTime": {
     "end_time": "2021-12-13T16:27:34.815803Z",
     "start_time": "2021-12-13T13:27:13.680018Z"
    }
   },
   "outputs": [],
   "source": [
    "#ALREADY EXECUTED\n",
    "for parent_selection in [2]:\n",
    "    for population_size in range(50, 1000, 50):\n",
    "        for mutation_selection in ['cim']:\n",
    "            cmd = 'python main.py --generations 1000 --crossover_selection COWGC --population_size {} --parent_selection {} --mutation_selection {}'.format(population_size, parent_selection, mutation_selection)\n",
    "            subprocess.call(cmd, shell=True)\n",
    "                \n",
    "for parent_selection in [2]:\n",
    "    for population_size in range(50, 1000, 50):\n",
    "        for mutation_selection in ['rsm']:\n",
    "            cmd = 'python main.py --generations 1000 --crossover_selection COWGC --population_size {} --parent_selection {} --mutation_selection {}'.format(population_size, parent_selection, mutation_selection)\n",
    "            subprocess.call(cmd, shell=True) \n",
    "                \n",
    "for parent_selection in [2]:\n",
    "    for population_size in range(50, 350, 50):\n",
    "        for mutation_selection in ['swap']:\n",
    "            cmd = 'python main.py --generations 1000 --crossover_selection COWGC --population_size {} --parent_selection {} --mutation_selection {}'.format(population_size, parent_selection, mutation_selection)\n",
    "            subprocess.call(cmd, shell=True)"
   ]
  },
  {
   "cell_type": "markdown",
   "metadata": {},
   "source": [
    "### Tournament selection and crossover = pmx"
   ]
  },
  {
   "cell_type": "code",
   "execution_count": 2,
   "metadata": {
    "ExecuteTime": {
     "end_time": "2021-12-16T18:33:14.853154Z",
     "start_time": "2021-12-16T18:06:58.510502Z"
    }
   },
   "outputs": [],
   "source": [
    "#ALREADY EXECUTED\n",
    "for parent_selection in [3]:\n",
    "    for population_size in range(650, 1000, 50):\n",
    "        for mutation_selection in ['cim']:\n",
    "            for k_tournament in range(2, 25, 3):\n",
    "                cmd = 'python main.py --generations 1000 --crossover_selection pmx --population_size {} --parent_selection {} --k_tournament {} --mutation_selection {}'.format(population_size, parent_selection, k_tournament, mutation_selection)\n",
    "                subprocess.call(cmd, shell=True)\n",
    "                \n",
    "for parent_selection in [3]:\n",
    "    for population_size in range(800, 1000, 50):\n",
    "        for mutation_selection in ['rsm']:\n",
    "            for k_tournament in range(2, 25, 3):\n",
    "                cmd = 'python main.py --generations 1000 --crossover_selection pmx --population_size {} --parent_selection {} --k_tournament {} --mutation_selection {}'.format(population_size, parent_selection, k_tournament, mutation_selection)\n",
    "                subprocess.call(cmd, shell=True)\n",
    "                \n",
    "for parent_selection in [3]:\n",
    "    for population_size in range(50, 350, 50):\n",
    "        for mutation_selection in ['swap']:\n",
    "            for k_tournament in range(2, 25, 3):\n",
    "                cmd = 'python main.py --generations 1000 --crossover_selection pmx --population_size {} --parent_selection {} --k_tournament {} --mutation_selection {}'.format(population_size, parent_selection, k_tournament, mutation_selection)\n",
    "                subprocess.call(cmd, shell=True)"
   ]
  },
  {
   "cell_type": "markdown",
   "metadata": {},
   "source": [
    "### Roulette selection and crossover = pmx"
   ]
  },
  {
   "cell_type": "code",
   "execution_count": null,
   "metadata": {
    "ExecuteTime": {
     "end_time": "2021-12-13T22:46:37.861920Z",
     "start_time": "2021-12-13T16:34:57.768289Z"
    }
   },
   "outputs": [],
   "source": [
    "#ALREADY EXECUTED\n",
    "for parent_selection in [2]:\n",
    "    for population_size in range(50, 1000, 50):\n",
    "        for mutation_selection in ['cim']:\n",
    "            cmd = 'python main.py --generations 1000 --crossover_selection pmx --population_size {} --parent_selection {} --mutation_selection {}'.format(population_size, parent_selection, mutation_selection)\n",
    "            subprocess.call(cmd, shell=True)\n",
    "                \n",
    "for parent_selection in [2]:\n",
    "    for population_size in range(50, 1000, 50):\n",
    "        for mutation_selection in ['rsm']:\n",
    "            cmd = 'python main.py --generations 1000 --crossover_selection pmx --population_size {} --parent_selection {} --mutation_selection {}'.format(population_size, parent_selection, mutation_selection)\n",
    "            subprocess.call(cmd, shell=True)\n",
    "                \n",
    "for parent_selection in [2]:\n",
    "    for population_size in range(50, 350, 50):\n",
    "        for mutation_selection in ['swap']:\n",
    "            cmd = 'python main.py --generations 1000 --crossover_selection pmx --population_size {} --parent_selection {} --mutation_selection {}'.format(population_size, parent_selection, mutation_selection)\n",
    "            subprocess.call(cmd, shell=True)"
   ]
  },
  {
   "cell_type": "markdown",
   "metadata": {},
   "source": [
    "### Tournament selection and crossover = COWLRGC"
   ]
  },
  {
   "cell_type": "code",
   "execution_count": null,
   "metadata": {
    "ExecuteTime": {
     "start_time": "2021-12-16T18:44:13.968Z"
    }
   },
   "outputs": [],
   "source": [
    "for parent_selection in [3]:\n",
    "    for population_size in range(50, 1000, 50):\n",
    "        for mutation_selection in ['cim']:\n",
    "            for k_tournament in range(2, 25, 3):\n",
    "                cmd = 'python main.py --generations 2000 --crossover_selection COWLRGC --population_size {} --parent_selection {} --k_tournament {} --mutation_selection {}'.format(population_size, parent_selection, k_tournament, mutation_selection)\n",
    "                subprocess.call(cmd, shell=True)\n",
    "\n",
    "for parent_selection in [3]:\n",
    "    for population_size in range(50, 1000, 50):\n",
    "        for mutation_selection in ['rsm']:\n",
    "            for k_tournament in range(2, 25, 3):\n",
    "                cmd = 'python main.py --generations 2000 --crossover_selection COWLRGC --population_size {} --parent_selection {} --k_tournament {} --mutation_selection {}'.format(population_size, parent_selection, k_tournament, mutation_selection)\n",
    "                subprocess.call(cmd, shell=True)\n",
    "                \n",
    "# max population size is decreased as swap operator makes the convergence of the algorithm very slow\n",
    "for parent_selection in [3]:\n",
    "    for population_size in range(50, 350, 50):\n",
    "        for mutation_selection in ['swap']:\n",
    "            for k_tournament in range(2, 25, 3):\n",
    "                cmd = 'python main.py --generations 2000 --crossover_selection COWLRGC --population_size {} --parent_selection {} --k_tournament {} --mutation_selection {}'.format(population_size, parent_selection, k_tournament, mutation_selection)\n",
    "                subprocess.call(cmd, shell=True)"
   ]
  },
  {
   "cell_type": "markdown",
   "metadata": {},
   "source": [
    "### Roulette selection and crossover = COWLRGC"
   ]
  },
  {
   "cell_type": "code",
   "execution_count": null,
   "metadata": {},
   "outputs": [],
   "source": [
    "for parent_selection in [2]:\n",
    "    for population_size in range(50, 1000, 50):\n",
    "        for mutation_selection in ['cim']:\n",
    "            cmd = 'python main.py --generations 1000 --crossover_selection COWLRGC --population_size {} --parent_selection {} --mutation_selection {}'.format(population_size, parent_selection, mutation_selection)\n",
    "            subprocess.call(cmd, shell=True)\n",
    "                \n",
    "for parent_selection in [2]:\n",
    "    for population_size in range(50, 1000, 50):\n",
    "        for mutation_selection in ['rsm']:\n",
    "            cmd = 'python main.py --generations 1000 --crossover_selection COWLRGC --population_size {} --parent_selection {} --mutation_selection {}'.format(population_size, parent_selection, mutation_selection)\n",
    "            subprocess.call(cmd, shell=True) \n",
    "                \n",
    "for parent_selection in [2]:\n",
    "    for population_size in range(50, 350, 50):\n",
    "        for mutation_selection in ['swap']:\n",
    "            cmd = 'python main.py --generations 1000 --crossover_selection COWLRGC --population_size {} --parent_selection {} --mutation_selection {}'.format(population_size, parent_selection, mutation_selection)\n",
    "            subprocess.call(cmd, shell=True)"
   ]
  }
 ],
 "metadata": {
  "kernelspec": {
   "display_name": "Python 3",
   "language": "python",
   "name": "python3"
  },
  "language_info": {
   "codemirror_mode": {
    "name": "ipython",
    "version": 3
   },
   "file_extension": ".py",
   "mimetype": "text/x-python",
   "name": "python",
   "nbconvert_exporter": "python",
   "pygments_lexer": "ipython3",
   "version": "3.8.5"
  },
  "toc": {
   "base_numbering": 1,
   "nav_menu": {},
   "number_sections": true,
   "sideBar": true,
   "skip_h1_title": false,
   "title_cell": "Table of Contents",
   "title_sidebar": "Contents",
   "toc_cell": false,
   "toc_position": {},
   "toc_section_display": true,
   "toc_window_display": false
  },
  "varInspector": {
   "cols": {
    "lenName": 16,
    "lenType": 16,
    "lenVar": 40
   },
   "kernels_config": {
    "python": {
     "delete_cmd_postfix": "",
     "delete_cmd_prefix": "del ",
     "library": "var_list.py",
     "varRefreshCmd": "print(var_dic_list())"
    },
    "r": {
     "delete_cmd_postfix": ") ",
     "delete_cmd_prefix": "rm(",
     "library": "var_list.r",
     "varRefreshCmd": "cat(var_dic_list()) "
    }
   },
   "types_to_exclude": [
    "module",
    "function",
    "builtin_function_or_method",
    "instance",
    "_Feature"
   ],
   "window_display": false
  }
 },
 "nbformat": 4,
 "nbformat_minor": 4
}
