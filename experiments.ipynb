{
 "cells": [
  {
   "cell_type": "code",
   "execution_count": 2,
   "metadata": {
    "ExecuteTime": {
     "end_time": "2021-12-12T22:43:36.927945Z",
     "start_time": "2021-12-12T22:43:36.918913Z"
    }
   },
   "outputs": [],
   "source": [
    "import subprocess"
   ]
  },
  {
   "cell_type": "markdown",
   "metadata": {},
   "source": [
    "### Tournament selection and crossover = COWGC"
   ]
  },
  {
   "cell_type": "code",
   "execution_count": null,
   "metadata": {
    "ExecuteTime": {
     "start_time": "2021-12-12T22:43:38.234Z"
    }
   },
   "outputs": [],
   "source": [
    "#ALREADY EXECUTED\n",
    "for parent_selection in [3]:\n",
    "    for population_size in range(650, 1000, 50):\n",
    "        for mutation_selection in ['cim']:\n",
    "            for k_tournament in range(2, 25, 3):\n",
    "                cmd = 'python main.py --generations 3000 --crossover_selection COWGC --population_size {} --parent_selection {} --k_tournament {} --mutation_selection {}'.format(population_size, parent_selection, k_tournament, mutation_selection)\n",
    "                subprocess.call(cmd, shell=True)"
   ]
  },
  {
   "cell_type": "code",
   "execution_count": null,
   "metadata": {
    "ExecuteTime": {
     "end_time": "2021-12-12T16:35:24.942583Z",
     "start_time": "2021-12-12T16:22:40.559901Z"
    }
   },
   "outputs": [],
   "source": [
    "for parent_selection in [3]:\n",
    "    for population_size in range(50, 1000, 50):\n",
    "        for mutation_selection in ['rsm']:\n",
    "            for k_tournament in range(2, 25, 3):\n",
    "                cmd = 'python main.py --generations 1000 --crossover_selection COWGC --population_size {} --parent_selection {} --k_tournament {} --mutation_selection {}'.format(population_size, parent_selection, k_tournament, mutation_selection)\n",
    "                subprocess.call(cmd, shell=True)"
   ]
  },
  {
   "cell_type": "code",
   "execution_count": null,
   "metadata": {},
   "outputs": [],
   "source": [
    "for parent_selection in [3]:\n",
    "    for population_size in range(50, 1000, 50):\n",
    "        for mutation_selection in ['swap']:\n",
    "            for k_tournament in range(2, 25, 3):\n",
    "                cmd = 'python main.py --generations 1000 --crossover_selection COWGC --population_size {} --parent_selection {} --k_tournament {} --mutation_selection {}'.format(population_size, parent_selection, k_tournament, mutation_selection)\n",
    "                subprocess.call(cmd, shell=True)"
   ]
  },
  {
   "cell_type": "markdown",
   "metadata": {},
   "source": [
    "### Roulette selection and crossover = COWGC"
   ]
  },
  {
   "cell_type": "code",
   "execution_count": null,
   "metadata": {},
   "outputs": [],
   "source": [
    "for parent_selection in [2]:\n",
    "    for population_size in range(50, 1000, 50):\n",
    "        for mutation_selection in ['cim']:\n",
    "            for k_tournament in range(2, 25, 3):\n",
    "                cmd = 'python main.py --generations 1000 --crossover_selection COWGC --population_size {} --parent_selection {} --k_tournament {} --mutation_selection {}'.format(population_size, parent_selection, k_tournament, mutation_selection)\n",
    "                subprocess.call(cmd, shell=True)\n",
    "                \n",
    "for parent_selection in [2]:\n",
    "    for population_size in range(50, 1000, 50):\n",
    "        for mutation_selection in ['rsm']:\n",
    "            for k_tournament in range(2, 25, 3):\n",
    "                cmd = 'python main.py --generations 1000 --crossover_selection COWGC --population_size {} --parent_selection {} --k_tournament {} --mutation_selection {}'.format(population_size, parent_selection, k_tournament, mutation_selection)\n",
    "                subprocess.call(cmd, shell=True) \n",
    "                \n",
    "for parent_selection in [2]:\n",
    "    for population_size in range(50, 1000, 50):\n",
    "        for mutation_selection in ['swap']:\n",
    "            for k_tournament in range(2, 25, 3):\n",
    "                cmd = 'python main.py --generations 1000 --crossover_selection COWGC --population_size {} --parent_selection {} --k_tournament {} --mutation_selection {}'.format(population_size, parent_selection, k_tournament, mutation_selection)\n",
    "                subprocess.call(cmd, shell=True)"
   ]
  },
  {
   "cell_type": "markdown",
   "metadata": {},
   "source": [
    "### Tournament selection and crossover = pmx"
   ]
  },
  {
   "cell_type": "code",
   "execution_count": null,
   "metadata": {},
   "outputs": [],
   "source": [
    "for parent_selection in [3]:\n",
    "    for population_size in range(50, 1000, 50):\n",
    "        for mutation_selection in ['cim']:\n",
    "            for k_tournament in range(2, 25, 3):\n",
    "                cmd = 'python main.py --generations 1000 --crossover_selection pmx --population_size {} --parent_selection {} --k_tournament {} --mutation_selection {}'.format(population_size, parent_selection, k_tournament, mutation_selection)\n",
    "                subprocess.call(cmd, shell=True)\n",
    "                \n",
    "for parent_selection in [3]:\n",
    "    for population_size in range(50, 1000, 50):\n",
    "        for mutation_selection in ['rsm']:\n",
    "            for k_tournament in range(2, 25, 3):\n",
    "                cmd = 'python main.py --generations 1000 --crossover_selection pmx --population_size {} --parent_selection {} --k_tournament {} --mutation_selection {}'.format(population_size, parent_selection, k_tournament, mutation_selection)\n",
    "                subprocess.call(cmd, shell=True)\n",
    "                \n",
    "for parent_selection in [3]:\n",
    "    for population_size in range(50, 1000, 50):\n",
    "        for mutation_selection in ['swap']:\n",
    "            for k_tournament in range(2, 25, 3):\n",
    "                cmd = 'python main.py --generations 1000 --crossover_selection pmx --population_size {} --parent_selection {} --k_tournament {} --mutation_selection {}'.format(population_size, parent_selection, k_tournament, mutation_selection)\n",
    "                subprocess.call(cmd, shell=True)"
   ]
  },
  {
   "cell_type": "markdown",
   "metadata": {},
   "source": [
    "### Roulette selection and crossover = pmx"
   ]
  },
  {
   "cell_type": "code",
   "execution_count": null,
   "metadata": {},
   "outputs": [],
   "source": [
    "for parent_selection in [2]:\n",
    "    for population_size in range(50, 1000, 50):\n",
    "        for mutation_selection in ['cim']:\n",
    "            for k_tournament in range(2, 25, 3):\n",
    "                cmd = 'python main.py --generations 1000 --crossover_selection pmx --population_size {} --parent_selection {} --k_tournament {} --mutation_selection {}'.format(population_size, parent_selection, k_tournament, mutation_selection)\n",
    "                subprocess.call(cmd, shell=True)\n",
    "                \n",
    "for parent_selection in [2]:\n",
    "    for population_size in range(50, 1000, 50):\n",
    "        for mutation_selection in ['rsm']:\n",
    "            for k_tournament in range(2, 25, 3):\n",
    "                cmd = 'python main.py --generations 1000 --crossover_selection pmx --population_size {} --parent_selection {} --k_tournament {} --mutation_selection {}'.format(population_size, parent_selection, k_tournament, mutation_selection)\n",
    "                subprocess.call(cmd, shell=True)\n",
    "                \n",
    "for parent_selection in [2]:\n",
    "    for population_size in range(50, 1000, 50):\n",
    "        for mutation_selection in ['swap']:\n",
    "            for k_tournament in range(2, 25, 3):\n",
    "                cmd = 'python main.py --generations 1000 --crossover_selection pmx --population_size {} --parent_selection {} --k_tournament {} --mutation_selection {}'.format(population_size, parent_selection, k_tournament, mutation_selection)\n",
    "                subprocess.call(cmd, shell=True)"
   ]
  }
 ],
 "metadata": {
  "kernelspec": {
   "display_name": "Python 3",
   "language": "python",
   "name": "python3"
  },
  "language_info": {
   "codemirror_mode": {
    "name": "ipython",
    "version": 3
   },
   "file_extension": ".py",
   "mimetype": "text/x-python",
   "name": "python",
   "nbconvert_exporter": "python",
   "pygments_lexer": "ipython3",
   "version": "3.8.5"
  },
  "toc": {
   "base_numbering": 1,
   "nav_menu": {},
   "number_sections": true,
   "sideBar": true,
   "skip_h1_title": false,
   "title_cell": "Table of Contents",
   "title_sidebar": "Contents",
   "toc_cell": false,
   "toc_position": {},
   "toc_section_display": true,
   "toc_window_display": false
  },
  "varInspector": {
   "cols": {
    "lenName": 16,
    "lenType": 16,
    "lenVar": 40
   },
   "kernels_config": {
    "python": {
     "delete_cmd_postfix": "",
     "delete_cmd_prefix": "del ",
     "library": "var_list.py",
     "varRefreshCmd": "print(var_dic_list())"
    },
    "r": {
     "delete_cmd_postfix": ") ",
     "delete_cmd_prefix": "rm(",
     "library": "var_list.r",
     "varRefreshCmd": "cat(var_dic_list()) "
    }
   },
   "types_to_exclude": [
    "module",
    "function",
    "builtin_function_or_method",
    "instance",
    "_Feature"
   ],
   "window_display": false
  }
 },
 "nbformat": 4,
 "nbformat_minor": 4
}
